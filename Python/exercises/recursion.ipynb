{
 "cells": [
  {
   "cell_type": "code",
   "execution_count": 1,
   "metadata": {},
   "outputs": [
    {
     "data": {
      "text/plain": [
       "100"
      ]
     },
     "execution_count": 1,
     "metadata": {},
     "output_type": "execute_result"
    }
   ],
   "source": [
    "def find_max_recursive(array, start, end):\n",
    "    if start == end:\n",
    "        return array[start]\n",
    "    \n",
    "    mid = (start + end) // 2\n",
    "\n",
    "    max_left = find_max_recursive(array, start, mid)\n",
    "    max_right = find_max_recursive(array, mid + 1, end)\n",
    "\n",
    "    return max(max_left, max_right)\n",
    "\n",
    "\n",
    "import random\n",
    "random_array = random_array = [random.randint(1, 100) for _ in range(100)]\n",
    "find_max_recursive(random_array, 0, len(random_array) - 1)"
   ]
  },
  {
   "cell_type": "code",
   "execution_count": 2,
   "metadata": {},
   "outputs": [
    {
     "data": {
      "text/plain": [
       "8"
      ]
     },
     "execution_count": 2,
     "metadata": {},
     "output_type": "execute_result"
    }
   ],
   "source": [
    "def power(x, n):\n",
    "    if n == 0:\n",
    "        return 1\n",
    "    else:\n",
    "        return x * power(x, n - 1)\n",
    "    \n",
    "power(2, 3)\n"
   ]
  },
  {
   "cell_type": "code",
   "execution_count": 3,
   "metadata": {},
   "outputs": [],
   "source": [
    "# power(2, 5)\n",
    "#     -> 2 * power(2, 4)\n",
    "#         -> 2 * 2 * power(2, 3)\n",
    "#             -> 2 * 2 * 2 * power(2, 2)\n",
    "#                 -> 2 * 2 * 2 * 2 * power(2, 1)\n",
    "#                     -> 2 * 2 * 2 * 2 * 2 * 2 * 1\n",
    "\n",
    "\n",
    "def power(x, n) -> int:\n",
    "    if n == 0:\n",
    "        return 1\n",
    "    else:\n",
    "        partial = power(x, n // 2)\n",
    "        result = partial * partial\n",
    "        if n % 2 == 1:\n",
    "            result *= x\n",
    "        return result\n",
    "    \n",
    "\n",
    "# power(2, 18)\n",
    "#     -> power(2, 9) * power(2, 9)\n",
    "#         -> 2 * power(2, 4) *  power(2, 4)\n",
    "#             ->  power(2, 2) * power(2, 2) \n",
    "#                 -> power(2, 1)) * power(2, 1)\n",
    "#                     -> ((2 * ((2 * (2 * power(2, 0))) * (2 * (2 * power(2, 0))))) * (2 * ((2 * (2 * power(2, 0))) * (2 * (2 * power(2, 0))))))\n",
    "#                         -> ((2 * ((2 * (2 * 1)) * (2 * (2 * 1)))) * (2 * ((2 * (2 * 1)) * (2 * (2 * 1))))) \n",
    "\n"
   ]
  },
  {
   "cell_type": "code",
   "execution_count": 4,
   "metadata": {},
   "outputs": [],
   "source": [
    "def reverse(array, start, end):\n",
    "    if start < end - 1:\n",
    "        array[start], array[end - 1] = array[end - 1], array[start]\n",
    "        reverse(array, start + 1, end - 1)\n",
    "\n",
    "array = [4, 3, 6, 2, 6]\n",
    "# reverse(array, 0, len(array))\n",
    "#     -> [6, 3, 6, 2, 4]\n",
    "#         reverse(array, 1, 4)\n",
    "#         -> [6, 2, 6, 3, 4]\n",
    "#            reverse(array, 2, 3)\n",
    "#             -> [6, 2, 6, 3, 4]"
   ]
  },
  {
   "cell_type": "code",
   "execution_count": 5,
   "metadata": {},
   "outputs": [
    {
     "name": "stdout",
     "output_type": "stream",
     "text": [
      "bcd\n",
      "bca\n",
      "bdc\n",
      "bda\n",
      "bac\n",
      "bad\n",
      "cbd\n",
      "cba\n",
      "cbd\n",
      "cba\n",
      "cdb\n",
      "cda\n",
      "cab\n",
      "cad\n",
      "dbc\n",
      "dba\n",
      "dcb\n",
      "dca\n",
      "dab\n",
      "dac\n",
      "cbd\n",
      "cba\n",
      "cdb\n",
      "cda\n",
      "cab\n",
      "cad\n",
      "abd\n",
      "abc\n",
      "adb\n",
      "adc\n",
      "acb\n",
      "acd\n"
     ]
    }
   ],
   "source": [
    "# Drawtherecursion trace fortheexecution offunctionPuzzleSolve(3,S,U)\n",
    "# (Code Fragment 4.14), where S is empty andU = {a,b,c,d}.\n",
    "\n",
    "def puzzleSolve(k, S, U):\n",
    "    \"\"\" \n",
    "    Inputs:\n",
    "        k: int\n",
    "        S: string\n",
    "        U: set of strings\n",
    "    Output:\n",
    "        Enumeration of all k-length extensions to S using elements in U\n",
    "    \"\"\"\n",
    "    string_array = list(S)\n",
    "    for e in U:\n",
    "        string_array.append(e)\n",
    "        U.remove(e)\n",
    "        if k == 1:\n",
    "            array = ''.join(string_array)\n",
    "            print(array)\n",
    "        else:\n",
    "            puzzleSolve(k - 1, string_array, U)\n",
    "        string_array.pop()\n",
    "        U.add(e)\n",
    "\n",
    "S = ''\n",
    "U = {'a', 'b', 'c', 'd'}\n",
    "print(puzzleSolve(3, S, U))\n",
    "    # -> 'a'    'b'     'c'    'd'\n",
    "    #     -> 'aa' 'ab' 'ac' 'ad' 'ba' 'bb' 'bc' 'bd' 'ca' 'cb' 'cc' 'cd' 'da' 'db' 'dc' 'dd'\n",
    "    #         -> 'aaa' 'aab' 'aac' 'aad' 'aba' 'abb' 'abc' 'abd' 'aca' 'acb' 'acc' 'acd' 'ada' 'adb' 'adc' 'add' 'baa' 'bab' 'bac' 'bad' 'bba' 'bbb' 'bbc' 'bbd' 'bca' 'bcb' 'bcc' 'bcd' 'bda' 'bdb' 'bdc' 'bdd' 'caa' 'cab' 'cac' 'cad' 'cba' 'cbb' 'cbc' 'cbd' 'cca' 'ccb' 'ccc' 'ccd' 'cda' 'cdb' 'cdc' 'cdd' 'daa' 'dab' 'dac' 'dad' 'dba' 'dbb' 'dbc' 'dbd' 'dca' 'dcb' 'dcc' 'dcd' 'dda' 'ddb' 'ddc' 'ddd'"
   ]
  },
  {
   "cell_type": "code",
   "execution_count": 10,
   "metadata": {},
   "outputs": [
    {
     "data": {
      "text/plain": [
       "9"
      ]
     },
     "execution_count": 10,
     "metadata": {},
     "output_type": "execute_result"
    }
   ],
   "source": [
    "# Write a short recursive Python function that finds the minimum and max-\n",
    "# imum values in a sequence without using any loops.\n",
    "\n",
    "def recursive_max(array, start, end):\n",
    "    if start == end:\n",
    "        return array[start]\n",
    "    mid = (start + end) // 2\n",
    "    left = recursive_max(array, start, mid)\n",
    "    right = recursive_max(array, mid + 1, end)\n",
    "    return max(left, right)\n",
    "\n",
    "\n",
    "array = [1, 2, 3, 4, 5, 6, 7, 8, 9, 0, 7, 5]\n",
    "recursive_max(array, 0, len(array) - 1)\n",
    "\n",
    "\n"
   ]
  },
  {
   "cell_type": "code",
   "execution_count": 5,
   "metadata": {},
   "outputs": [
    {
     "name": "stdout",
     "output_type": "stream",
     "text": [
      "724 µs ± 140 µs per loop (mean ± std. dev. of 7 runs, 10 loops each)\n"
     ]
    }
   ],
   "source": [
    "# Describe a recursive algorithm to compute the integer part of the base-two\n",
    "# logarithm of n using only addition and integer division.\n",
    "\n",
    "\n",
    "\n",
    "def recursive_log(n):\n",
    "    if n == 2:\n",
    "        return 1\n",
    "    return recursive_log(n // 2) + 1 \n",
    "\n",
    "    \n",
    "\n",
    "def bitwise_log(n):\n",
    "    if n == 1:\n",
    "        return 0\n",
    "    return bitwise_log(n >> 1) + 1\n",
    "\n",
    "def iterative_log(n):\n",
    "    count = 0\n",
    "    while n > 1:\n",
    "        n //= 2\n",
    "        count += 1\n",
    "    return count\n",
    "\n",
    "\n",
    "\n",
    "%timeit -n 10 recursive_log(2 ** 1300)\n",
    "\n",
    "\n",
    "\n"
   ]
  },
  {
   "cell_type": "code",
   "execution_count": 6,
   "metadata": {},
   "outputs": [
    {
     "name": "stdout",
     "output_type": "stream",
     "text": [
      "762 µs ± 117 µs per loop (mean ± std. dev. of 7 runs, 10 loops each)\n"
     ]
    }
   ],
   "source": [
    "%timeit -n 10 bitwise_log(2 ** 1300)"
   ]
  },
  {
   "cell_type": "code",
   "execution_count": 7,
   "metadata": {},
   "outputs": [
    {
     "name": "stdout",
     "output_type": "stream",
     "text": [
      "298 µs ± 48.2 µs per loop (mean ± std. dev. of 7 runs, 10 loops each)\n"
     ]
    }
   ],
   "source": [
    "%timeit -n 10 iterative_log(2 ** 1300)"
   ]
  },
  {
   "cell_type": "code",
   "execution_count": 1,
   "metadata": {},
   "outputs": [
    {
     "data": {
      "text/plain": [
       "False"
      ]
     },
     "execution_count": 1,
     "metadata": {},
     "output_type": "execute_result"
    }
   ],
   "source": [
    "# Describe an efficient recursive function for solving the element unique-\n",
    "# ness problem, which runs in time that is at most O(n 2 ) in the worst case\n",
    "# without using sorting.\n",
    "\n",
    "\n",
    "def recursive_unique(array, n):\n",
    "    if n <= 1:\n",
    "        return True\n",
    "\n",
    "    if array[n - 1] in array[0:n-1]:\n",
    "        return False\n",
    "    return recursive_unique(array, n - 1)\n",
    "\n",
    "\n",
    "recursive_unique([1, 2, 3, 4, 5, 5, 7, 8, 9, 0], 10)"
   ]
  },
  {
   "cell_type": "code",
   "execution_count": 4,
   "metadata": {},
   "outputs": [
    {
     "name": "stdout",
     "output_type": "stream",
     "text": [
      "The slowest run took 4.02 times longer than the fastest. This could mean that an intermediate result is being cached.\n",
      "482 µs ± 226 µs per loop (mean ± std. dev. of 7 runs, 10 loops each)\n"
     ]
    }
   ],
   "source": [
    "#  Give a recursive algorithm to compute the product of two positive integers,\n",
    "# m and n, using only addition and subtraction.\n",
    "\n",
    "def product(m , n):\n",
    "    if n == 1:\n",
    "        return m\n",
    "    return m + product(m, n - 1)\n",
    "\n",
    "def bitwise_product(m, n):\n",
    "    if n == 1:\n",
    "        return m\n",
    "    return (m << 1) + bitwise_product(m, n - 1)\n",
    "\n",
    "%timeit -n 10 product(2**11, 2**10)"
   ]
  },
  {
   "cell_type": "code",
   "execution_count": 5,
   "metadata": {},
   "outputs": [
    {
     "name": "stdout",
     "output_type": "stream",
     "text": [
      "593 µs ± 101 µs per loop (mean ± std. dev. of 7 runs, 10 loops each)\n"
     ]
    }
   ],
   "source": [
    "%timeit -n 10 bitwise_product(2**11, 2**10)"
   ]
  },
  {
   "cell_type": "code",
   "execution_count": 19,
   "metadata": {},
   "outputs": [
    {
     "name": "stdout",
     "output_type": "stream",
     "text": [
      "Move disk 1 from tile A to tile B\n",
      "Move disk 2 from tile A to tile C\n",
      "Move disk 1 from tile B to tile C\n",
      "Move disk 3 from tile A to tile B\n",
      "Move disk 1 from tile C to tile A\n",
      "Move disk 2 from tile C to tile B\n",
      "Move disk 1 from tile A to tile B\n",
      "Move disk 4 from tile A to tile C\n",
      "Move disk 1 from tile B to tile C\n",
      "Move disk 2 from tile B to tile A\n",
      "Move disk 1 from tile C to tile A\n",
      "Move disk 3 from tile B to tile C\n",
      "Move disk 1 from tile A to tile B\n",
      "Move disk 2 from tile A to tile C\n",
      "Move disk 1 from tile B to tile C\n",
      "0\n"
     ]
    }
   ],
   "source": [
    "#  In the Towers of Hanoi puzzle, we are given a platform with three pegs, a,\n",
    "# b, and c, sticking out of it. On peg a is a stack of n disks, each larger than\n",
    "# the next, so that the smallest is on the top and the largest is on the bottom.\n",
    "# The puzzle is to move all the disks from peg a to peg c, moving one disk\n",
    "# at a time, so that we never place a larger disk on top of a smaller one.\n",
    "# See Figure 4.15 for an example of the case n = 4. Describe a recursive\n",
    "# algorithm for solving the Towers of Hanoi puzzle for arbitrary n. (Hint:\n",
    "# Consider first the subproblem of moving all but the n th disk from peg a to\n",
    "# another peg using the third as “temporary storage.”)\n",
    "\n",
    "\n",
    "\n",
    "def hanoi(n, source, target, auxiliary):\n",
    "    if n == 1:\n",
    "        print(f\"Move disk 1 from tile {source} to tile {target}\")\n",
    "        return \n",
    "    hanoi(n - 1, source, auxiliary, target)\n",
    "    print(f\"Move disk {n} from tile {source} to tile {target}\")\n",
    "    hanoi(n - 1, auxiliary, target, source)\n",
    "\n",
    "        \n",
    "\n",
    "hanoi(4, 'A', 'C', 'B')\n"
   ]
  },
  {
   "cell_type": "code",
   "execution_count": 5,
   "metadata": {},
   "outputs": [
    {
     "name": "stdout",
     "output_type": "stream",
     "text": [
      "[4, 3, 2, 1] [] []\n",
      "[4, 3, 2] [1] []\n",
      "[1] [4, 3] [2]\n",
      "[4, 3] [2, 1] []\n",
      "[2, 1] [3] [4]\n",
      "[2] [4, 1] [3]\n",
      "[4, 1] [] [3, 2]\n",
      "[4] [3, 2, 1] []\n",
      "[3, 2, 1] [] [4]\n",
      "[3, 2] [4, 1] []\n",
      "[4, 1] [3] [2]\n",
      "[3] [2, 1] [4]\n",
      "[2, 1] [4, 3] []\n",
      "[2] [1] [4, 3]\n",
      "[1] [] [4, 3, 2]\n",
      "[] [] [4, 3, 2, 1]\n"
     ]
    }
   ],
   "source": [
    "def hanoi_array(n, source, auxiliary, target):\n",
    "    if n > 0:\n",
    "        hanoi_array(n - 1, source, target, auxiliary)\n",
    "        print(source, auxiliary, target)\n",
    "        if source:\n",
    "            target.append(source.pop())\n",
    "        hanoi_array(n - 1, auxiliary, source, target)\n",
    "\n",
    "        \n",
    "a = [4, 3, 2, 1]\n",
    "b = []\n",
    "c = []\n",
    "\n",
    "\n",
    "hanoi_array(len(a), a, b, c)\n",
    "print(a, b, c)"
   ]
  },
  {
   "cell_type": "code",
   "execution_count": 6,
   "metadata": {},
   "outputs": [
    {
     "name": "stdout",
     "output_type": "stream",
     "text": [
      "[]\n",
      "[3]\n",
      "[2]\n",
      "[2, 3]\n",
      "[1]\n",
      "[1, 3]\n",
      "[1, 2]\n",
      "[1, 2, 3]\n"
     ]
    }
   ],
   "source": [
    "# Write a recursive function that will output all the subsets of a set of n\n",
    "# elements (without repeating any subsets).\n",
    "\n",
    "def generate_subsets(elements, subset=[], index=0):\n",
    "    # Base case\n",
    "    if index == len(elements):\n",
    "        print(subset)\n",
    "        return\n",
    "\n",
    "    # Exclude the current element\n",
    "    generate_subsets(elements, subset, index + 1)\n",
    "\n",
    "    # Include the current element\n",
    "    subset.append(elements[index])\n",
    "    generate_subsets(elements, subset, index + 1)\n",
    "\n",
    "    # Backtrack to explore other possibilities (remove the last element)\n",
    "    subset.pop()\n",
    "\n",
    "\n",
    "elements = [1, 2, 3]\n",
    "generate_subsets(elements)\n"
   ]
  },
  {
   "cell_type": "code",
   "execution_count": 27,
   "metadata": {},
   "outputs": [
    {
     "data": {
      "text/plain": [
       "'snap&stop'"
      ]
     },
     "execution_count": 27,
     "metadata": {},
     "output_type": "execute_result"
    }
   ],
   "source": [
    "\n",
    "# Write a short recursive Python function that takes a character string s and\n",
    "# outputs its reverse. For example, the reverse of pots&pans would be\n",
    "# snap&stop .\n",
    "\n",
    "\n",
    "\n",
    "def reverse_string(s, l):\n",
    "\n",
    "    # Base case: if length is 1, return string in list\n",
    "    if l == 1:\n",
    "        return s\n",
    "\n",
    "    # Recursive step: append the character at the current index to the list\n",
    "    return reverse_string(s[1:], l - 1) + s[:1]\n",
    "\n",
    "text = \"pots&pans\"\n",
    "reversed_text = reverse_string(list(text), len(text))\n",
    "''.join(reversed_text)\n"
   ]
  },
  {
   "cell_type": "code",
   "execution_count": null,
   "metadata": {},
   "outputs": [],
   "source": []
  }
 ],
 "metadata": {
  "kernelspec": {
   "display_name": ".venv",
   "language": "python",
   "name": "python3"
  },
  "language_info": {
   "codemirror_mode": {
    "name": "ipython",
    "version": 3
   },
   "file_extension": ".py",
   "mimetype": "text/x-python",
   "name": "python",
   "nbconvert_exporter": "python",
   "pygments_lexer": "ipython3",
   "version": "3.10.2"
  }
 },
 "nbformat": 4,
 "nbformat_minor": 2
}
