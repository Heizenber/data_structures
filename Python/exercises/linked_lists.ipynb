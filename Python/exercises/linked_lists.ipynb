{
 "cells": [
  {
   "cell_type": "code",
   "execution_count": 1,
   "metadata": {},
   "outputs": [],
   "source": [
    "\n",
    "\n",
    "class Node:\n",
    "    def __init__(self, value, next=None):\n",
    "        self.value = value\n",
    "        self.next = next\n",
    "\n",
    "class LinkedList:\n",
    "    def __init__(self, head=None,):\n",
    "        self.head = head\n",
    "        self.tail = head\n",
    "\n",
    "    def append(self, value):\n",
    "        if self.head is None:\n",
    "            self.head = Node(value)\n",
    "            self.tail = self.head\n",
    "            return\n",
    "        else:\n",
    "            self.tail.next = Node(value)\n",
    "            self.tail = self.tail.next\n",
    "\n",
    "    def __str__(self):\n",
    "        node = self.head\n",
    "        result = ''\n",
    "        while node:\n",
    "            result += str(node.value) + ' '\n",
    "            node = node.next\n",
    "        return result\n",
    "    \n",
    "\n",
    "linked_list = LinkedList()\n",
    "linked_list.append(1)\n",
    "linked_list.append(2)\n",
    "linked_list.append(3)\n",
    "linked_list.append(4)\n",
    "linked_list.append(5)"
   ]
  },
  {
   "cell_type": "code",
   "execution_count": 2,
   "metadata": {},
   "outputs": [
    {
     "name": "stdout",
     "output_type": "stream",
     "text": [
      "4\n"
     ]
    }
   ],
   "source": [
    "# Give an algorithm for finding the second-to-last node in a singly linked\n",
    "# list in which the last node is indicated by a next reference of None.\n",
    "\n",
    "def second_to_last(head):\n",
    "    if head is None or head.next is None:\n",
    "        return None\n",
    "    current = head \n",
    "    while current.next.next != None:\n",
    "        current = current.next \n",
    "    return current\n",
    "\n",
    "print(second_to_last(linked_list.head).value)"
   ]
  },
  {
   "cell_type": "code",
   "execution_count": 3,
   "metadata": {},
   "outputs": [
    {
     "name": "stdout",
     "output_type": "stream",
     "text": [
      "1\n",
      "2\n",
      "3\n",
      "4\n",
      "5\n",
      "6\n",
      "7\n",
      "8\n",
      "9\n"
     ]
    }
   ],
   "source": [
    "#  Describe a good algorithm for concatenating two singly linked lists L and\n",
    "# M, given only references to the first node of each list, into a single list L ?\n",
    "# that contains all the nodes of L followed by all the nodes of M.\n",
    "\n",
    "\n",
    "def merge_linked_lists(list1, list2):\n",
    "    current = list1.head\n",
    "    while current and current.next is not None:\n",
    "        current = current.next \n",
    "    current.next = list2.head \n",
    "    return list1 \n",
    "\n",
    "def print_linked_list(head):\n",
    "    current = head \n",
    "    while current:\n",
    "        print(current.value)\n",
    "        current = current.next\n",
    "\n",
    "linked_list_2 = LinkedList()\n",
    "linked_list_2.append(6)\n",
    "linked_list_2.append(7)\n",
    "linked_list_2.append(8)\n",
    "linked_list_2.append(9)\n",
    "merge_linked_lists(linked_list, linked_list_2)\n",
    "print_linked_list(linked_list.head)"
   ]
  },
  {
   "cell_type": "code",
   "execution_count": null,
   "metadata": {},
   "outputs": [],
   "source": []
  },
  {
   "cell_type": "code",
   "execution_count": null,
   "metadata": {},
   "outputs": [],
   "source": []
  }
 ],
 "metadata": {
  "kernelspec": {
   "display_name": ".venv",
   "language": "python",
   "name": "python3"
  },
  "language_info": {
   "codemirror_mode": {
    "name": "ipython",
    "version": 3
   },
   "file_extension": ".py",
   "mimetype": "text/x-python",
   "name": "python",
   "nbconvert_exporter": "python",
   "pygments_lexer": "ipython3",
   "version": "3.10.2"
  }
 },
 "nbformat": 4,
 "nbformat_minor": 2
}
