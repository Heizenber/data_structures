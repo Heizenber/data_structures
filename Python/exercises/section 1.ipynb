{
 "cells": [
  {
   "cell_type": "code",
   "execution_count": 1,
   "metadata": {},
   "outputs": [],
   "source": [
    "def reverse_list(array):\n",
    "    return array[::-1]"
   ]
  },
  {
   "cell_type": "code",
   "execution_count": 4,
   "metadata": {},
   "outputs": [],
   "source": [
    "def product_odd(array):\n",
    "    odd_number = [num for num in array if num % 2 != 0]\n",
    "    return len(odd_number) >= 2"
   ]
  },
  {
   "cell_type": "code",
   "execution_count": 5,
   "metadata": {},
   "outputs": [],
   "source": [
    "def are_different(array):\n",
    "    return len(set(array)) == len(array)"
   ]
  },
  {
   "cell_type": "code",
   "execution_count": 8,
   "metadata": {},
   "outputs": [
    {
     "name": "stdout",
     "output_type": "stream",
     "text": [
      "[2, 4, 6, 8, 10]\n"
     ]
    }
   ],
   "source": [
    "def scale(data, factor):\n",
    "    for j in range(len(data)):\n",
    "        data[j] *= factor\n",
    "\n",
    "\n",
    "array = [1,2,3,4,5]\n",
    "scale(array, 2)\n",
    "print(array)"
   ]
  },
  {
   "cell_type": "code",
   "execution_count": 9,
   "metadata": {},
   "outputs": [
    {
     "name": "stdout",
     "output_type": "stream",
     "text": [
      "[1, 2, 3, 4, 5]\n"
     ]
    }
   ],
   "source": [
    "# Had we implemented the scale function (page 25) as follows, does it work\n",
    "# properly?\n",
    "def scale(data, factor):\n",
    "    for val in data:\n",
    "        val *= factor\n",
    "# Explain why or why not.\n",
    "\n",
    "# No, it does not work properly. The function does not change the values of the\n",
    "# list. The function creates a new variable val and assigns the value of the\n",
    "# first element of the list to it. The function then multiplies the value of\n",
    "# val by factor. However, val is a new variable and does not affect the value\n",
    "# of the first element of the list. The function then repeats the process for\n",
    "# the second element of the list, and so on. The function never changes the\n",
    "# values of the list.\n",
    "        \n",
    "array = [1,2,3,4,5]\n",
    "scale(array, 2)\n",
    "print(array)"
   ]
  },
  {
   "cell_type": "code",
   "execution_count": 10,
   "metadata": {},
   "outputs": [
    {
     "data": {
      "text/plain": [
       "[0, 2, 6, 12, 20, 30, 42, 56, 72, 90]"
      ]
     },
     "execution_count": 10,
     "metadata": {},
     "output_type": "execute_result"
    }
   ],
   "source": [
    "[(num + 1) * num for num in range(10)]"
   ]
  },
  {
   "cell_type": "code",
   "execution_count": 14,
   "metadata": {},
   "outputs": [
    {
     "data": {
      "text/plain": [
       "['a',\n",
       " 'b',\n",
       " 'c',\n",
       " 'd',\n",
       " 'e',\n",
       " 'f',\n",
       " 'g',\n",
       " 'h',\n",
       " 'i',\n",
       " 'j',\n",
       " 'k',\n",
       " 'l',\n",
       " 'm',\n",
       " 'n',\n",
       " 'o',\n",
       " 'p',\n",
       " 'q',\n",
       " 'r',\n",
       " 's',\n",
       " 't',\n",
       " 'u',\n",
       " 'v',\n",
       " 'w',\n",
       " 'x',\n",
       " 'y',\n",
       " 'z']"
      ]
     },
     "execution_count": 14,
     "metadata": {},
     "output_type": "execute_result"
    }
   ],
   "source": [
    "[chr(char) for char in range(ord('a'), ord('z') + 1)]"
   ]
  },
  {
   "cell_type": "code",
   "execution_count": 28,
   "metadata": {},
   "outputs": [
    {
     "name": "stdout",
     "output_type": "stream",
     "text": [
      "[7, 5, 2, 4, 8, 10, 6, 3, 9, 1]\n"
     ]
    }
   ],
   "source": [
    "def shuffle_array(array):\n",
    "    from random import randint\n",
    "    random_indices_cache = set()\n",
    "    random_indices = []\n",
    "    while len(random_indices_cache) < len(array):\n",
    "        num = randint(0, len(array) - 1)\n",
    "        if num not in random_indices_cache:\n",
    "            random_indices_cache.add(num)\n",
    "            random_indices.append(num)\n",
    "    return [array[i] for i in random_indices]\n",
    "\n",
    "array = [1,2,3,4,5, 6, 7, 8, 9, 10]\n",
    "array = shuffle_array(array)\n",
    "print(array)\n",
    "\n",
    "\n",
    "from random import randint\n",
    "\n",
    "def my_shuffle(data):\n",
    "    n = len(data)\n",
    "    for i in range(n):\n",
    "        swap = randint(i, n - 1)\n",
    "        data[i], data[swap] = data[swap], data[i]\n",
    "    return data\n",
    "\n"
   ]
  },
  {
   "cell_type": "code",
   "execution_count": 29,
   "metadata": {},
   "outputs": [
    {
     "name": "stdout",
     "output_type": "stream",
     "text": [
      "[8, 10, 7, 2, 5, 4, 6, 1, 3, 9]\n"
     ]
    }
   ],
   "source": [
    "from random import randint\n",
    "\n",
    "def my_shuffle(data):\n",
    "    n = len(data)\n",
    "    for i in range(n):\n",
    "        swap = randint(i, n - 1)\n",
    "        data[i], data[swap] = data[swap], data[i]\n",
    "    return data\n",
    "\n",
    "array = [1,2,3,4,5, 6, 7, 8, 9, 10]\n",
    "array = my_shuffle(array)\n",
    "print(array)"
   ]
  },
  {
   "cell_type": "code",
   "execution_count": 31,
   "metadata": {},
   "outputs": [
    {
     "name": "stdout",
     "output_type": "stream",
     "text": [
      "yad lufrednow a tahw\n"
     ]
    }
   ],
   "source": [
    "def read_lines():\n",
    "    lines = []\n",
    "    while True:\n",
    "        try:\n",
    "            line = input()\n",
    "            lines.append(line)\n",
    "        except EOFError:\n",
    "            break\n",
    "    for line in reversed(lines):\n",
    "        print(line)\n",
    "\n",
    "read_lines()"
   ]
  },
  {
   "cell_type": "code",
   "execution_count": 32,
   "metadata": {},
   "outputs": [
    {
     "name": "stdout",
     "output_type": "stream",
     "text": [
      "[6, 14, 24, 36, 50]\n"
     ]
    }
   ],
   "source": [
    "def dot_product(a, b):\n",
    "    if len(a) != len(b):\n",
    "        raise ValueError('The arrays must be the same size.')\n",
    "    return [a[i] * b[i] for i in range(len(a))]\n",
    "\n",
    "array1 = [1,2,3,4,5]\n",
    "array2 = [6,7,8,9,10]\n",
    "\n",
    "print(dot_product(array1, array2))"
   ]
  },
  {
   "cell_type": "code",
   "execution_count": 33,
   "metadata": {},
   "outputs": [
    {
     "name": "stdout",
     "output_type": "stream",
     "text": [
      "Don't try buffer overflow attacks in Python!\n"
     ]
    }
   ],
   "source": [
    "def write_element(array, index, value):\n",
    "    try:\n",
    "        array[index] = value\n",
    "    except IndexError:\n",
    "        print(\"Don't try buffer overflow attacks in Python!\")\n",
    "\n",
    "array = [1,2,3,4,5]\n",
    "write_element(array, 10, 10)"
   ]
  },
  {
   "cell_type": "code",
   "execution_count": 35,
   "metadata": {},
   "outputs": [
    {
     "name": "stdout",
     "output_type": "stream",
     "text": [
      "5\n"
     ]
    }
   ],
   "source": [
    "# C-1.24 Write a short Python function that counts the number of vowels in a given\n",
    "# character string.\n",
    "\n",
    "def number_of_vowels(string):\n",
    "    return sum([1 for char in string if char in 'aeiou'])\n",
    "\n",
    "\n",
    "text = 'This is a test string.'\n",
    "print(number_of_vowels(text))"
   ]
  },
  {
   "cell_type": "code",
   "execution_count": 44,
   "metadata": {},
   "outputs": [],
   "source": [
    "# C-1.25 Write a short Python function that takes a strings, representing a sentence,\n",
    "# and returns a copy of the string with all punctuation removed. For exam-\n",
    "# ple, if given the string \"Let s try, Mike.\", this function would return\n",
    "# \"Lets try Mike\".\n",
    "\n",
    "def remove_punctuation(s):\n",
    "    text = [char for char in s if char not in \"':;,./\\\\!?\\\"\"]\n",
    "    return ''.join(text)\n",
    "\n",
    "text = \"Let's try, Mike.\"\n",
    "expected = \"Lets try Mike\"\n",
    "\n",
    "\n",
    "\n",
    "assert expected == remove_punctuation(text)"
   ]
  },
  {
   "cell_type": "code",
   "execution_count": 46,
   "metadata": {},
   "outputs": [
    {
     "name": "stdout",
     "output_type": "stream",
     "text": [
      "a * b = c\n"
     ]
    }
   ],
   "source": [
    "def function(a, b, c):\n",
    "    if a + b == c:\n",
    "        print(\"a + b = c\")\n",
    "    elif a == b - c:\n",
    "        print(\"a = b - c\")\n",
    "    elif a * b == c:\n",
    "        print(\"a * b = c\")\n",
    "    else:\n",
    "        print(\"No arithmetic formula found\")\n",
    "\n",
    "\n",
    "function(1, 4, 4)"
   ]
  },
  {
   "cell_type": "code",
   "execution_count": 59,
   "metadata": {},
   "outputs": [
    {
     "name": "stdout",
     "output_type": "stream",
     "text": [
      "[1, 2, 4, 5, 8, 10, 16, 20, 25, 32, 40, 50, 64, 80, 100, 125, 128, 160, 200, 250, 256, 320, 400, 500, 512, 625, 640, 800, 1000, 1250, 1280, 1600, 2000, 2500, 2560, 3125, 3200, 4000, 5000, 6250, 6400, 8000, 10000, 12500, 12800, 15625, 16000, 20000, 25000, 31250, 32000, 40000, 50000, 62500, 64000, 78125, 80000, 100000, 125000, 156250, 160000, 200000, 250000, 312500, 320000, 390625, 400000, 500000, 625000, 781250, 800000, 1000000, 1250000, 1562500, 1600000, 1953125, 2000000, 2500000, 3125000, 3906250, 4000000, 5000000, 6250000, 7812500, 8000000, 10000000, 12500000, 15625000, 20000000, 25000000, 31250000, 40000000, 50000000, 62500000, 100000000, 125000000, 200000000, 250000000, 500000000, 1000000000]\n"
     ]
    }
   ],
   "source": [
    "def factors_in_increasing_order(n):\n",
    "    k = 1\n",
    "    larger_factors = []\n",
    "    while k * k < n:\n",
    "        if n % k == 0:\n",
    "            yield k\n",
    "            larger_factors.append(n // k)\n",
    "        k += 1\n",
    "    if k * k == n:\n",
    "        yield k\n",
    "    for factor in reversed(larger_factors):\n",
    "        yield factor\n",
    "\n",
    "print(list(factors_in_increasing_order(1000000000)))"
   ]
  },
  {
   "cell_type": "code",
   "execution_count": 63,
   "metadata": {},
   "outputs": [
    {
     "data": {
      "text/plain": [
       "5.0"
      ]
     },
     "execution_count": 63,
     "metadata": {},
     "output_type": "execute_result"
    }
   ],
   "source": [
    "import math \n",
    "\n",
    "def p_norm(v, p=2):\n",
    "    return math.pow(sum([math.pow(a, p) for a in v]), 1/p)\n",
    "\n",
    "p_norm([4, 3])"
   ]
  },
  {
   "cell_type": "code",
   "execution_count": 67,
   "metadata": {},
   "outputs": [
    {
     "name": "stdout",
     "output_type": "stream",
     "text": [
      "720\n"
     ]
    }
   ],
   "source": [
    "def outputs(string):\n",
    "    sets = set()\n",
    "\n",
    "    while len(sets) < calculate_factorial(len(string)):\n",
    "        string = shuffle_array(string)\n",
    "        sets.add(''.join(string))\n",
    "    return sets\n",
    "\n",
    "def calculate_factorial(n):\n",
    "    result = 1\n",
    "    while (n > 1):\n",
    "        result *= n\n",
    "        n -= 1\n",
    "    return result\n",
    "\n",
    "import itertools\n",
    "\n",
    "\n",
    "\n",
    "# sets = set()\n",
    "characters = ['c', 'a', 't', 'd', 'o', 'g']\n",
    "# for p in itertools.permutations(characters):\n",
    "#     sets.add(''.join(p))\n",
    "\n",
    "\n",
    "# print(len(sets))\n",
    "\n",
    "\n",
    "print(outputs(characters))"
   ]
  },
  {
   "cell_type": "code",
   "execution_count": 68,
   "metadata": {},
   "outputs": [
    {
     "data": {
      "text/plain": [
       "6"
      ]
     },
     "execution_count": 68,
     "metadata": {},
     "output_type": "execute_result"
    }
   ],
   "source": [
    "def divider(num):\n",
    "    number_times = 0\n",
    "    while num > 2:\n",
    "        num /= 2\n",
    "        number_times += 1\n",
    "    return number_times\n",
    "\n",
    "divider(100)"
   ]
  },
  {
   "cell_type": "code",
   "execution_count": 74,
   "metadata": {},
   "outputs": [
    {
     "name": "stdout",
     "output_type": "stream",
     "text": [
      "{100: 0, 50: 1, 20: 0, 10: 0, 5: 1, 1: 1, 0.5: 1, 0.25: 0, 0.1: 0, 0.05: 1, 0.01: 2}\n"
     ]
    }
   ],
   "source": [
    "def make_change(charged, given):\n",
    "    denominations = [100, 50, 20, 10, 5, 1, 0.5, 0.25, 0.1, 0.05, 0.01]\n",
    "    change = given - charged\n",
    "    result = {}\n",
    "    if change < 0:\n",
    "        raise ValueError(\"Not enough money given\")\n",
    "    for denomination in denominations:\n",
    "        count = change // denomination\n",
    "        result[denomination] = int(count) \n",
    "        change -= int(count) * denomination \n",
    "    print(result) \n",
    "\n",
    "make_change(543.43, 600)\n",
    "    "
   ]
  },
  {
   "cell_type": "code",
   "execution_count": 75,
   "metadata": {},
   "outputs": [
    {
     "data": {
      "text/plain": [
       "0"
      ]
     },
     "execution_count": 75,
     "metadata": {},
     "output_type": "execute_result"
    }
   ],
   "source": [
    "def calculator():\n",
    "    while True:\n",
    "        result = 0\n",
    "        cur_operator = '+'\n",
    "        num_or_op = ''\n",
    "        while True:\n",
    "            num_or_op = input()\n",
    "            if num_or_op in '+-*/=':\n",
    "                cur_operator = num_or_op\n",
    "            elif num_or_op.isalnum():\n",
    "                if cur_operator == '+':\n",
    "                    result += float(num_or_op)\n",
    "                elif cur_operator == '-':\n",
    "                    result -= float(num_or_op)\n",
    "                elif cur_operator == '*':\n",
    "                    result *= float(num_or_op)\n",
    "                elif cur_operator == '/':\n",
    "                    result /= float(num_or_op)\n",
    "            if num_or_op == '=':\n",
    "                print(result)\n",
    "                return    \n",
    "\n",
    "\n",
    "\n",
    "calculator()\n",
    "        "
   ]
  },
  {
   "cell_type": "code",
   "execution_count": 7,
   "metadata": {},
   "outputs": [
    {
     "name": "stdout",
     "output_type": "stream",
     "text": [
      "  1: I wewi never spam my friends again\n",
      "  2: I will never spbspa my friends again\n",
      "  3: I will never spam my friends ca\n",
      "  4: I will nxne spam my friends again\n",
      "  5: I will never spam mgmy friends again\n",
      "  6: I will never spam my fritfrie again\n",
      "  7: I will never spam my friends agahagai\n",
      "  8: I wildwill never spam my friends again\n",
      "  9: I will never spam my fgfr again\n",
      " 10: I will never spam my friends fa\n",
      " 11: I will never spam my friends asag\n",
      " 12: I will never spam my frigfrie again\n",
      " 13: I will never ms my friends again\n",
      " 14: I will never spyspa my friends again\n",
      " 15: I will never scsp my friends again\n",
      " 16: I will never spam om friends again\n",
      " 17: I wawi never spam my friends again\n",
      " 18: bI will never spam my friends again\n",
      " 19: I will never spam my friends ua\n",
      " 20: I will never spam xm friends again\n",
      " 21: jI will never spam my friends again\n",
      " 22: I will never spam mpmy friends again\n",
      " 23: I will never spam my fsfr again\n",
      " 24: I will never ts my friends again\n",
      " 25: I will never spam zm friends again\n",
      " 26: I wiuwil never spam my friends again\n",
      " 27: I will never spam my friends sa\n",
      " 28: I will never sxsp my friends again\n",
      " 29: I will never ms my friends again\n",
      " 30: lI will never spam my friends again\n",
      " 31: I wswi never spam my friends again\n",
      " 32: I wiltwill never spam my friends again\n",
      " 33: kI will never spam my friends again\n",
      " 34: I will never spam mamy friends again\n",
      " 35: I will never spam my friends agayagai\n",
      " 36: I will never spam my friends ra\n",
      " 37: I will never spam mcmy friends again\n",
      " 38: I will never spam my friendkfriends again\n",
      " 39: I will never spam my friends ajag\n",
      " 40: I wilhwill never spam my friends again\n",
      " 41: I will nevlneve spam my friends again\n",
      " 42: I will never spam my friends aggaga\n",
      " 43: I will nevejnever spam my friends again\n",
      " 44: I will none spam my friends again\n",
      " 45: I will nevemnever spam my friends again\n",
      " 46: I will never cs my friends again\n",
      " 47: kI will never spam my friends again\n",
      " 48: I will never spam em friends again\n",
      " 49: I will never ms my friends again\n",
      " 50: I will nevhneve spam my friends again\n",
      " 51: I will never spam mgmy friends again\n",
      " 52: I will never spam my friendnfriends again\n",
      " 53: I will never spam nm friends again\n",
      " 54: I will never spam my sf again\n",
      " 55: I aw never spam my friends again\n",
      " 56: I will never spfspa my friends again\n",
      " 57: dI will never spam my friends again\n",
      " 58: I will never spam my frienhfriend again\n",
      " 59: I will nevsneve spam my friends again\n",
      " 60: kI will never spam my friends again\n",
      " 61: I will never spbspa my friends again\n",
      " 62: sI will never spam my friends again\n",
      " 63: sI will never spam my friends again\n",
      " 64: I will never spam my friends agaxagai\n",
      " 65: I will never spam momy friends again\n",
      " 66: I will never spam my frpfri again\n",
      " 67: fI will never spam my friends again\n",
      " 68: I will neveqnever spam my friends again\n",
      " 69: vI will never spam my friends again\n",
      " 70: I will nevpneve spam my friends again\n",
      " 71: I will never spam my friendfriend again\n",
      " 72: I wkwi never spam my friends again\n",
      " 73: I will never sqsp my friends again\n",
      " 74: uI will never spam my friends again\n",
      " 75: I will neknev spam my friends again\n",
      " 76: I wimwil never spam my friends again\n",
      " 77: I will never qs my friends again\n",
      " 78: I wilfwill never spam my friends again\n",
      " 79: I will never spam rm friends again\n",
      " 80: I will nevbneve spam my friends again\n",
      " 81: I wikwil never spam my friends again\n",
      " 82: I will never spuspa my friends again\n",
      " 83: I will never spam my frieifrien again\n",
      " 84: I will never spjspa my friends again\n",
      " 85: I will jn spam my friends again\n",
      " 86: rI will never spam my friends again\n",
      " 87: I will nene spam my friends again\n",
      " 88: I will never spkspa my friends again\n",
      " 89: I will never spam km friends again\n",
      " 90: I will never spam my friends aoag\n",
      " 91: I will never spam my fefr again\n",
      " 92: I will never spam my friendgfriends again\n",
      " 93: I will never spam my frxfri again\n",
      " 94: I will never spam my sf again\n",
      " 95: sI will never spam my friends again\n",
      " 96: I wcwi never spam my friends again\n",
      " 97: I will never spam my friends agag\n",
      " 98: wI will never spam my friends again\n",
      " 99: I wewi never spam my friends again\n",
      "100: I wilrwill never spam my friends again\n"
     ]
    }
   ],
   "source": [
    "from random import randint\n",
    "\n",
    "def punishment():\n",
    "    sentence = \"I will never spam my friends again\"\n",
    "    sentence_list = sentence.split(' ')\n",
    "    for i in range(1, 101):\n",
    "        random_position = randint(0, len(sentence_list) - 1)\n",
    "        random_word = sentence_list[random_position]\n",
    "        sentence_list[random_position] = insert_typo(random_word)\n",
    "        print(f\"{i:>3}: {' '.join(sentence_list)}\")\n",
    "        sentence_list = sentence.split(' ')\n",
    "\n",
    "def insert_typo(word):\n",
    "    random_position = randint(0, len(word) - 1)\n",
    "    random_character = chr(randint(ord('a'), ord('z')))\n",
    "    return word[:random_position] + random_character + word[:random_position + 1]\n",
    "\n",
    "\n",
    "punishment()\n"
   ]
  },
  {
   "cell_type": "code",
   "execution_count": 10,
   "metadata": {},
   "outputs": [
    {
     "name": "stdout",
     "output_type": "stream",
     "text": [
      "  5: (False, 0.0)\n",
      " 10: (False, 0.0)\n",
      " 15: (False, 0.0)\n",
      " 20: (False, 0.0)\n",
      " 25: (True, 0.12)\n",
      " 30: (True, 0.067)\n",
      " 35: (False, 0.0)\n",
      " 40: (True, 0.025)\n",
      " 45: (True, 0.022)\n",
      " 50: (True, 0.06)\n",
      " 55: (True, 0.055)\n",
      " 60: (True, 0.083)\n",
      " 65: (True, 0.138)\n",
      " 70: (True, 0.114)\n",
      " 75: (True, 0.16)\n",
      " 80: (True, 0.1)\n",
      " 85: (True, 0.118)\n",
      " 90: (True, 0.078)\n",
      " 95: (True, 0.126)\n",
      "100: (True, 0.1)\n"
     ]
    }
   ],
   "source": [
    "from random import randint\n",
    "\n",
    "def birthday_paradox(number_of_people):\n",
    "    birthdays = [randint(1, 365) for _ in range(number_of_people)]\n",
    "    return len(birthdays) != len(set(birthdays)), round((len(birthdays) - len(set(birthdays))) / len(birthdays), 3)\n",
    "\n",
    "for i in range(5, 101, 5):\n",
    "    print(f\"{i:>3}: {birthday_paradox(i)}\")"
   ]
  },
  {
   "cell_type": "code",
   "execution_count": null,
   "metadata": {},
   "outputs": [],
   "source": [
    "def word_counter(array):\n",
    "    result = {}\n",
    "    for word in array:\n",
    "        result[word] = result.get(word, 0) + 1\n",
    "    return result"
   ]
  },
  {
   "cell_type": "code",
   "execution_count": 1,
   "metadata": {},
   "outputs": [
    {
     "data": {
      "text/plain": [
       "4"
      ]
     },
     "execution_count": 1,
     "metadata": {},
     "output_type": "execute_result"
    }
   ],
   "source": [
    "a_range = range(50)\n",
    "a_range[4]"
   ]
  },
  {
   "cell_type": "code",
   "execution_count": null,
   "metadata": {},
   "outputs": [],
   "source": []
  }
 ],
 "metadata": {
  "kernelspec": {
   "display_name": "Python 3",
   "language": "python",
   "name": "python3"
  },
  "language_info": {
   "codemirror_mode": {
    "name": "ipython",
    "version": 3
   },
   "file_extension": ".py",
   "mimetype": "text/x-python",
   "name": "python",
   "nbconvert_exporter": "python",
   "pygments_lexer": "ipython3",
   "version": "3.10.2"
  }
 },
 "nbformat": 4,
 "nbformat_minor": 2
}
